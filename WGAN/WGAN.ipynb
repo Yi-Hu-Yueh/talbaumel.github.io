{
 "cells": [
  {
   "cell_type": "markdown",
   "metadata": {},
   "source": [
    "# WGAN Using DyNet"
   ]
  },
  {
   "cell_type": "markdown",
   "metadata": {},
   "source": [
    "I copied alot from these blogs:\n",
    "\n",
    "https://github.com/devnag/pytorch-generative-adversarial-networks\n",
    "\n",
    "http://wiseodd.github.io/techblog/2017/02/04/wasserstein-gan/"
   ]
  },
  {
   "cell_type": "markdown",
   "metadata": {},
   "source": [
    "## Imports"
   ]
  },
  {
   "cell_type": "code",
   "execution_count": 1,
   "metadata": {
    "collapsed": true,
    "hideCode": false,
    "hidePrompt": false
   },
   "outputs": [],
   "source": [
    "%matplotlib inline  \n",
    "import sys\n",
    "from IPython.core.display import HTML\n",
    "import numpy as np\n",
    "import matplotlib.pyplot as plt\n",
    "from tqdm import tqdm\n",
    "from IPython import display\n",
    "sys.argv.append('--dynet-autobatch')\n",
    "sys.argv.append('1')\n",
    "import dynet as dy\n",
    "dy.init()"
   ]
  },
  {
   "cell_type": "markdown",
   "metadata": {
    "hideCode": false,
    "hidePrompt": false
   },
   "source": [
    "## Create Data"
   ]
  },
  {
   "cell_type": "code",
   "execution_count": 2,
   "metadata": {
    "hideCode": false,
    "hidePrompt": false
   },
   "outputs": [],
   "source": [
    "sample_size = 100\n",
    "disc_num_hidden = 1\n",
    "gen_num_hidden = 2\n",
    "hidden_size = 50\n",
    "disc2gen_ratio = 5\n",
    "mu = 4\n",
    "sigma = 1.25\n",
    "noise_size = 4\n",
    "\n",
    "#optimizer = lambda model:  dy.RMSPropTrainer(model, 5e-5)\n",
    "optimizer = lambda model:  dy.RMSPropTrainer(model)\n",
    "\n",
    "def sample_target():\n",
    "    return np.random.normal(mu, sigma, sample_size)\n",
    "    \n",
    "def sample_noise():\n",
    "    return np.random.rand(noise_size)\n",
    "\n",
    "def print_dist(sample1, sample2):\n",
    "    display.clear_output(wait=True)\n",
    "    plt.hist(sample1, 50, normed=True, color=\"red\")\n",
    "    plt.hist(sample2, 50, normed=True, color=\"blue\")\n",
    "    #plt.axis([-2, 2, 0, 10])\n",
    "    plt.show()"
   ]
  },
  {
   "cell_type": "markdown",
   "metadata": {},
   "source": [
    "## Utils"
   ]
  },
  {
   "cell_type": "code",
   "execution_count": 3,
   "metadata": {
    "collapsed": true
   },
   "outputs": [],
   "source": [
    "def np2dy(x):\n",
    "    dy_vec = dy.vecInput(len(x))\n",
    "    dy_vec.set(x)\n",
    "    return dy_vec\n",
    "\n",
    "class Perceptron:\n",
    "    def __init__(self, in_size, out_size, model):\n",
    "        self.model = model\n",
    "        self.w = self.model.add_parameters((out_size, in_size))\n",
    "        self.b = self.model.add_parameters((out_size))\n",
    "        \n",
    "    def __call__(self, x):\n",
    "        w = dy.parameter(self.w)\n",
    "        b = dy.parameter(self.b)\n",
    "        return w*x+b"
   ]
  },
  {
   "cell_type": "markdown",
   "metadata": {
    "hideCode": false,
    "hidePrompt": false
   },
   "source": [
    "## Models"
   ]
  },
  {
   "cell_type": "code",
   "execution_count": 4,
   "metadata": {
    "code_folding": [],
    "hideCode": false,
    "hidePrompt": false
   },
   "outputs": [],
   "source": [
    "class Generator:\n",
    "    def __init__(self):\n",
    "        self.model = dy.Model() \n",
    "        \n",
    "        self.h1 = Perceptron(noise_size, hidden_size, self.model)\n",
    "        self.hiddens = [Perceptron(hidden_size, hidden_size, self.model)  for _ in range(gen_num_hidden)]\n",
    "        self.h2 = Perceptron(hidden_size, 1, self.model)\n",
    "        \n",
    "        self.opt = optimizer(self.model)\n",
    "       \n",
    "    def __call__(self):\n",
    "        output = []\n",
    "        for _ in range(sample_size):\n",
    "            x = sample_noise()\n",
    "            x = np2dy(x)\n",
    "            h = dy.rectify(self.h1(x))\n",
    "            for layer in self.hiddens:\n",
    "                h = dy.rectify(layer(h))\n",
    "            #return self.h2(h)\n",
    "            output.append(self.h2(h))\n",
    "        return dy.concatenate(output)\n",
    "\n",
    "class Discriminator:\n",
    "    def __init__(self):\n",
    "        self.model = dy.Model() \n",
    "        \n",
    "        self.h1 = Perceptron(1, hidden_size, self.model) \n",
    "        self.hiddens = [Perceptron(hidden_size, hidden_size, self.model)  for _ in range(disc_num_hidden)]\n",
    "        self.h2 = Perceptron(hidden_size, 1, self.model) \n",
    "        \n",
    "        self.opt = optimizer(self.model)\n",
    "        \n",
    "    def __call__(self, x):\n",
    "        outs = []\n",
    "        for i in range(sample_size):\n",
    "            h = x[i]\n",
    "            h = dy.rectify(self.h1(h))\n",
    "            for layer in self.hiddens:\n",
    "                h = dy.rectify(layer(h))\n",
    "            outs.append(self.h2(h))\n",
    "        return dy.average(outs)\n",
    "    \n",
    "    def clip_weights(self):\n",
    "        for perc in self.hiddens+[self.h1, self.h2]:\n",
    "            perc.w.clip_inplace(-0.01,0.01)\n",
    "            perc.b.clip_inplace(-0.01,0.01)\n",
    "\n",
    "d = Discriminator()\n",
    "g = Generator()"
   ]
  },
  {
   "cell_type": "markdown",
   "metadata": {
    "hideCode": false,
    "hidePrompt": false
   },
   "source": [
    "## Train"
   ]
  },
  {
   "cell_type": "code",
   "execution_count": 5,
   "metadata": {
    "code_folding": [],
    "collapsed": true,
    "hideCode": false,
    "hidePrompt": false
   },
   "outputs": [],
   "source": [
    "mean = []\n",
    "var = []\n",
    "def test():\n",
    "    generated = g().npvalue()\n",
    "    print_dist(sample_target(), generated)\n",
    "    mean.append(np.mean(generated))\n",
    "    var.append(np.var(generated))\n",
    "    print(\"Mean: \"+str(mean[-1])+\" Var: \"+str(var[-1]))\n",
    "\n",
    "def optimize(loss, opt):\n",
    "    loss.value()\n",
    "    loss.backward()\n",
    "    opt.update()\n",
    "    \n",
    "\n",
    "def train_disc(d, g, epochs):\n",
    "    for _ in range(epochs):\n",
    "        dy.renew_cg()\n",
    "        \n",
    "        target = np2dy(sample_target())\n",
    "        real_loss = d(target)\n",
    "        \n",
    "        generated = np2dy(g().npvalue())\n",
    "        fake_loss = d(generated)\n",
    "        optimize(fake_loss-real_loss, d.opt)\n",
    "        d.clip_weights()\n",
    "    \n",
    "def train_gen(d, g, epochs):\n",
    "    for _ in range(epochs):\n",
    "        dy.renew_cg()\n",
    "        generated = g()\n",
    "        loss = d(generated)\n",
    "        optimize(-loss, g.opt)\n",
    "        \n",
    "def train(d, g, epochs, inner_epochs):\n",
    "    for i in tqdm(range(epochs)):\n",
    "        train_disc(d, g, inner_epochs*disc2gen_ratio)\n",
    "        train_gen(d, g, inner_epochs)\n",
    "        if i % 50 == 0:\n",
    "            test()"
   ]
  },
  {
   "cell_type": "markdown",
   "metadata": {
    "hideCode": false,
    "hidePrompt": false
   },
   "source": [
    "## Else"
   ]
  },
  {
   "cell_type": "code",
   "execution_count": 6,
   "metadata": {
    "hideCode": false,
    "hidePrompt": false,
    "scrolled": false
   },
   "outputs": [
    {
     "data": {
      "image/png": "[encoded data removed]",
      "text/plain": [
       "<matplotlib.figure.Figure at 0x7f5ce4ea9710>"
      ]
     },
     "metadata": {},
     "output_type": "display_data"
    },
    {
     "name": "stderr",
     "output_type": "stream",
     "text": [
      " 99%|█████████▉| 4955/5000 [03:15<00:02, 20.27it/s]"
     ]
    },
    {
     "name": "stdout",
     "output_type": "stream",
     "text": [
      "Mean: 4.83340820074 Var: 0.230929595127\n"
     ]
    },
    {
     "name": "stderr",
     "output_type": "stream",
     "text": [
      "100%|██████████| 5000/5000 [03:16<00:00, 25.40it/s]\n"
     ]
    },
    {
     "data": {
      "image/png": "[encoded data removed]",
      "text/plain": [
       "<matplotlib.figure.Figure at 0x7f5ce4abba90>"
      ]
     },
     "metadata": {},
     "output_type": "display_data"
    },
    {
     "data": {
      "text/plain": [
       "<function matplotlib.pyplot.show>"
      ]
     },
     "execution_count": 6,
     "metadata": {},
     "output_type": "execute_result"
    },
    {
     "data": {
      "image/png": "[encoded data removed]",
      "text/plain": [
       "<matplotlib.figure.Figure at 0x7f5ce4e5b2b0>"
      ]
     },
     "metadata": {},
     "output_type": "display_data"
    }
   ],
   "source": [
    "train(d, g, 5000, 1)\n",
    "\n",
    "plt.plot(mean)\n",
    "plt.show()\n",
    "plt.plot(var)\n",
    "plt.show"
   ]
  }
 ],
 "metadata": {
  "hide_code_all_hidden": false,
  "kernelspec": {
   "display_name": "Python 3",
   "language": "python",
   "name": "python3"
  },
  "language_info": {
   "codemirror_mode": {
    "name": "ipython",
    "version": 3
   },
   "file_extension": ".py",
   "mimetype": "text/x-python",
   "name": "python",
   "nbconvert_exporter": "python",
   "pygments_lexer": "ipython3",
   "version": "3.5.2"
  }
 },
 "nbformat": 4,
 "nbformat_minor": 2
}
