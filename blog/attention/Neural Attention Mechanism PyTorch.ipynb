{
 "cells": [
  {
   "cell_type": "markdown",
   "metadata": {},
   "source": [
    "# Sequence To Sequence Attention Models In PyTorch"
   ]
  },
  {
   "cell_type": "markdown",
   "metadata": {},
   "source": [
    "One of the most coveted AI tasks is automatic machine translation (MT). In this task a sequence of words in a source language are translated into a sequence of words in a target language (usually those sequences are of different lengths). In order to succeed in this task, the model needs to generalize language patterns from a relatively small dataset of translated examples (the number of possible sentences in each language is large enough to be considered infinite). \n",
    "\n",
    "Sequence to sequence neural models have been shown to make such generalizations for input and output of variable lengths. \n",
    "For example: [Bahdanau et al.2015] Neural Machine Translation by Jointly Learning to Align and Translate in ICLR 2015\n",
    "(https://arxiv.org/abs/1409.0473) achieves nearly state of the art results in MT.\n",
    "\n",
    "In this tutorial, we solve a toy problem on a synthetic dataset to learn the reverse function (map \"abcd\" to \"dcba\") using the same models developed to solve MT.\n",
    "\n",
    "We review three models of increasing sophistication: \n",
    "* a simple Recurrent Neural Network (RNN)\n",
    "* a sequence to sequence encoder-decoder model (https://www.tensorflow.org/versions/r0.9/tutorials/seq2seq/index.html)\n",
    "* finally, an Attention Based model as introduced by Bahdanau et al.\n",
    "\n",
    "This is a hands-on description of these models, using the DyNet framework.\n",
    "Make sure you first install Dynet following these instructions: http://dynet.readthedocs.io/en/latest/python.html\n",
    "\n",
    "The task we address is the following: the input is a random string $(c_0, c_1, c_2 ... c_n)$ of random length n and the output is the reversed string $(c_n, c_{n-1}, c_{n-2} ... c_0)$.\n",
    "\n",
    "Let's build a function that generates an $(input, output)$ instance of our reverse function:"
   ]
  },
  {
   "cell_type": "code",
   "execution_count": 1,
   "metadata": {},
   "outputs": [],
   "source": [
    "%matplotlib inline\n",
    "from random import choice, randrange\n",
    "from tqdm import tqdm\n",
    "import matplotlib.pyplot as plt\n",
    "import torch\n",
    "import torch.nn as nn\n",
    "from torch.autograd import Variable\n",
    "import torch.nn.functional as F\n",
    "import numpy as np\n",
    "\n",
    "EOS = \"<EOS>\" #all strings will end with the End Of String token\n",
    "PAD = \"<PAD>\"\n",
    "characters = list(\"abcd\")\n",
    "characters.append(EOS)\n",
    "characters.append(PAD)\n",
    "\n",
    "int2char = list(characters)\n",
    "char2int = {c:i for i,c in enumerate(characters)}\n",
    "\n",
    "VOCAB_SIZE = len(characters)\n",
    "\n",
    "def sample_model(min_length, max_lenth):\n",
    "    random_length = randrange(min_length, max_lenth)                             # Pick a random length\n",
    "    random_char_list = [choice(characters[:-2]) for _ in range(random_length)]  # Pick random chars\n",
    "    random_string = ''.join(random_char_list) \n",
    "    return random_string, random_string[::-1]  # Return the random string and its reverse"
   ]
  },
  {
   "cell_type": "markdown",
   "metadata": {},
   "source": [
    "Let us generate a couple $(Input, Output)$ examples:"
   ]
  },
  {
   "cell_type": "code",
   "execution_count": 2,
   "metadata": {},
   "outputs": [
    {
     "name": "stdout",
     "output_type": "stream",
     "text": [
      "('cbdd', 'ddbc')\n",
      "('cdddad', 'dadddc')\n"
     ]
    }
   ],
   "source": [
    "print(sample_model(4, 5))\n",
    "print(sample_model(5, 10))"
   ]
  },
  {
   "cell_type": "markdown",
   "metadata": {},
   "source": [
    "In order to compare different models under identical conditions, we create a dataset in advance. \n",
    "The dataset contains 3,000* random strings with lengths ranging from 1 to 15.<br><br> \n",
    "\n",
    "*Note that there are more than $\\sum_{n=1}^{14} 4^{n} >> 4^{14} = 268,435,456$ possible random strings so a dataset containing only 3,000 strings means our model will really need to generalize."
   ]
  },
  {
   "cell_type": "code",
   "execution_count": 3,
   "metadata": {},
   "outputs": [],
   "source": [
    "MAX_STRING_LEN = 15\n",
    "batch_size = 2\n",
    "\n",
    "train_set = [sample_model(1, MAX_STRING_LEN) for _ in range(3000)]\n",
    "val_set = [sample_model(1, MAX_STRING_LEN) for _ in range(50)]"
   ]
  },
  {
   "cell_type": "markdown",
   "metadata": {},
   "source": [
    "As usual, We split the data set into train and validation subsets. \n",
    "\n",
    "We define a $train$ function to optimize a model on our training dataset and plot training errors as learning proceeds over the validation set.  \n",
    "\n",
    "This method uses generic interface of the PyCNN network class which is used to encode any neural network model:\n",
    "* network.get_loss(input, output)\n",
    "* dy.SimpleSGDTrainer(network.model)\n",
    "\n",
    "This applies a backpropagation training regime over the network for a set number of epochs."
   ]
  },
  {
   "cell_type": "code",
   "execution_count": 4,
   "metadata": {},
   "outputs": [],
   "source": [
    "#some helper functions\n",
    "def _preprocess_string(strings):\n",
    "    strings_with_eos = [list(string) + [EOS] for string in strings]\n",
    "    max_len = max([len(string) for string in strings_with_eos])\n",
    "    padded_strings = [string+[PAD]*(max_len-len(string)) for string in strings_with_eos]\n",
    "    int_strings = [[char2int[c] for c in string] for string in padded_strings]\n",
    "    transposed = [[int_strings[j][i] for j in range(len(strings))] for i in range(max_len)]\n",
    "    return Variable(torch.LongTensor(transposed))\n",
    "\n",
    "def get_loss(network, input_strings, output_strings):\n",
    "    batch_size = len(output_strings)\n",
    "    input_strings = _preprocess_string(input_strings)\n",
    "    output_strings = _preprocess_string(output_strings)\n",
    "\n",
    "    probs = network(input_strings, batch_size)\n",
    "    size = probs.size()\n",
    "    size = size[0]*size[1]\n",
    "\n",
    "    return F.nll_loss(probs.view(size, -1), output_strings.view(size, -1).squeeze()).sum()\n",
    "\n",
    "def generate(network, input_string):\n",
    "    input_string = _preprocess_string([input_string])\n",
    "    probs = network(input_string, 1)\n",
    "    generated = [int2char[prob[0].topk(1)[1][0]] for prob in probs.data]\n",
    "    return (''.join(generated)).split(EOS)[0].replace(PAD, '')\n"
   ]
  },
  {
   "cell_type": "code",
   "execution_count": 5,
   "metadata": {},
   "outputs": [],
   "source": [
    "def train(network, train_set, val_set, epochs = 20):\n",
    "    def get_val_set_loss(network, val_set):\n",
    "        loss = [get_loss(network, [input_string], [output_string]).data[0] for input_string, output_string in val_set]\n",
    "        return sum(loss)\n",
    "    \n",
    "    train_set = train_set*epochs\n",
    "    losses = []\n",
    "    iterations = []\n",
    "    optim = torch.optim.Adagrad(network.parameters())\n",
    "    \n",
    "    input_strings = []\n",
    "    output_strings = []\n",
    "    for i in tqdm(range(len(train_set))):\n",
    "        \n",
    "        input_string, output_string = train_set[i]\n",
    "        input_strings.append(input_string)\n",
    "        output_strings.append(output_string)\n",
    "        if i%batch_size == 0:\n",
    "            optim.zero_grad()\n",
    "            loss = get_loss(network, input_strings, output_strings)\n",
    "            loss_value = loss.data[0]\n",
    "            loss.backward()\n",
    "            optim.step()\n",
    "            \n",
    "            input_strings = []\n",
    "            output_strings = []\n",
    "\n",
    "        # Accumulate average losses over training to plot\n",
    "        if i%(len(train_set)/100) == 0:\n",
    "            val_loss = get_val_set_loss(network, val_set)\n",
    "            losses.append(val_loss)\n",
    "            iterations.append(i/((len(train_set)/100)))\n",
    "\n",
    "    plt.plot(iterations, losses)\n",
    "    plt.axis([0, 100, 0, 100])\n",
    "    plt.show() \n",
    "    print('loss on validation set:', val_loss)"
   ]
  },
  {
   "cell_type": "markdown",
   "metadata": {},
   "source": [
    "## Simple RNN Model"
   ]
  },
  {
   "cell_type": "markdown",
   "metadata": {},
   "source": [
    "First, let us test our toy problem using a simple Recurrent Neural Network (RNN). \n",
    "This model can handle inputs of variable lengths, but it cannot produce outputs of variable lengths. \n",
    "Luckily for us, in our problem the length of the input and the output are equal.\n",
    "\n",
    "Specifically, we will use LSTM units in our RNN - read background information about LSTMs: http://colah.github.io/posts/2015-08-Understanding-LSTMs/\n",
    "\n",
    "Then make sure to read about RNNs in pycnn: https://github.com/clab/cnn/blob/master/pyexamples/tutorials/RNNs.ipynb\n",
    "\n",
    "If you want, compare it with the Tensorflow corresponding tutorial: https://www.tensorflow.org/versions/r0.9/tutorials/recurrent/index.html\n",
    "\n",
    "Note that in all of our models, we have character units - that is, we consider sequences of characters.\n",
    "In many other models, we could consider sequences of words instead of characters, and sometimes sequences of morphemes or word segments."
   ]
  },
  {
   "cell_type": "markdown",
   "metadata": {},
   "source": [
    "<img src=\"img/rnn.jpg\" width=\"50%\" height=\"50%\">"
   ]
  },
  {
   "cell_type": "markdown",
   "metadata": {},
   "source": [
    "We will develop three models that are all refinements of the same structure.\n",
    "We therefore define a base class that has the following interface:\n",
    "* A constructor with the hyper-parameters of the network (number of layers, sizes of embeddings and for the latent state of the units.\n",
    "* Pre-processors for input and output to normalize the sequences coming in and out of the network.  In our case, these simply add the special <EOS> tokens.\n",
    "* The method $get\\_probs(rnn\\_output)$ maps the computed output of the RNN to a probability distribution over candidate characters by applying a simple softmax transformation - and the corresponding $predict(probs)$ method which picks the maximum likelihood character given the prob distribution.\n",
    "* $get\\_loss(input\\_string, output\\_string)$ computes the overall loss of the network on a single pair.  It runs the network over the input, for each input char, it computes the distribution of possible output chars, and then computes the cross-entropy loss for each character: $-\\sum_{output\\_char} log(prob(output\\_char))$.\n",
    "* $generate(input\\_string)$ which generates a candidate output given the input based on the current state of the network."
   ]
  },
  {
   "cell_type": "code",
   "execution_count": null,
   "metadata": {
    "code_folding": []
   },
   "outputs": [],
   "source": [
    "class SimpleRNNNetwork(nn.Module):\n",
    "    def __init__(self,num_of_layers, embeddings_size, state_size):\n",
    "        super(SimpleRNNNetwork, self).__init__()\n",
    "        self.num_of_layers = num_of_layers\n",
    "        self.state_size = state_size\n",
    "        \n",
    "        # the embedding paramaters\n",
    "        self.embeddings = nn.Embedding(VOCAB_SIZE, embeddings_size)\n",
    "\n",
    "        # the rnn\n",
    "        self.RNN = nn.LSTM(embeddings_size, state_size, num_of_layers)\n",
    "        \n",
    "        # project the rnn output to a vector of VOCAB_SIZE length\n",
    "        self.linear= nn.Linear(state_size, VOCAB_SIZE)\n",
    "    \n",
    "    def get_rnn_init_state(self, batch_size):\n",
    "        h0 = Variable(torch.zeros(self.num_of_layers, batch_size, self.state_size))\n",
    "        c0 = Variable(torch.zeros(self.num_of_layers, batch_size, self.state_size))\n",
    "        return h0, c0\n",
    "    \n",
    "    def __call__(self, input_string, batch_size):                        \n",
    "        embedded = self.embeddings(input_string)\n",
    "        output, hn = self.RNN(embedded, self.get_rnn_init_state(batch_size))\n",
    "        logits = self.linear(output)\n",
    "        return F.log_softmax(logits, 2)   "
   ]
  },
  {
   "cell_type": "markdown",
   "metadata": {},
   "source": [
    "We are now ready to run the first RNN network over our sample dataset - and test it on a simple \"ab\" string:"
   ]
  },
  {
   "cell_type": "code",
   "execution_count": null,
   "metadata": {},
   "outputs": [
    {
     "name": "stderr",
     "output_type": "stream",
     "text": [
      " 46%|████▌     | 27543/60000 [03:36<04:15, 127.28it/s]"
     ]
    }
   ],
   "source": [
    "RNN_NUM_OF_LAYERS = 2\n",
    "EMBEDDINGS_SIZE = 4\n",
    "STATE_SIZE = 128\n",
    "\n",
    "rnn = SimpleRNNNetwork(RNN_NUM_OF_LAYERS, EMBEDDINGS_SIZE, STATE_SIZE)\n",
    "train(rnn, train_set, val_set)\n",
    "print(generate(rnn, 'abc'))"
   ]
  },
  {
   "cell_type": "markdown",
   "metadata": {},
   "source": [
    "We observe that the loss does not improve over time - training does not converge.\n",
    "We also see that the network did not learn how to reverse 'ab'.\n",
    "\n",
    "Our RNN model has no chance to learn the $reverse\\ function$ since it predicts each output character $o_i$ immediately after reading input character $i_i$. So when predicting the 1st output charcter the RNN didn't even see the last input charcter.\n",
    "\n",
    "No magic going on here - so let's improve.\n"
   ]
  },
  {
   "cell_type": "markdown",
   "metadata": {},
   "source": [
    "## Encoder Decoder Model"
   ]
  },
  {
   "cell_type": "markdown",
   "metadata": {},
   "source": [
    "We will now try to solve our problem using the encoder-decoder model. An encoder RNN will read the entire input string and generate a fixed length encoded vector to represent the entire input string. The decoder RNN will then use the encoded string to predict the output.\n",
    "\n",
    "This strategy should address the concern we identified above - which is that to generate a reverse string properly we should first look at the whole input string - then start generating. \n",
    "\n",
    "Naturally, we are still skeptical: can it be that the encoder will \"remember\" the input string sufficiently to generate the whole output strings?  Let us try it."
   ]
  },
  {
   "cell_type": "markdown",
   "metadata": {},
   "source": [
    "<img src=\"img/encdec.jpg\" width=\"50%\" height=\"50%\">"
   ]
  },
  {
   "cell_type": "markdown",
   "metadata": {},
   "source": [
    "We prepare a new class EncoderDecoderNetwork which derives from SimpleRNNNetwork.\n",
    "\n",
    "In the constructor, we build two RNNs - encoder and decoder.\n",
    "We define a new method $encode\\_string(embedded\\_string)$ which runs the input string into the encoder.\n",
    "We then adapt $generate(input\\_string)$ and $get\\_loss(input\\_string, output\\_string)$ to perform the \n",
    "encoder / decoder choreography.\n",
    "\n",
    "Note that the decoder receives the same encoding of the whole input string for all slices.\n",
    "Each slice of the decoder must learn to decide what \"part\" of the encoding it should look at to decide\n",
    "which output to produce - based on the latent state the previous slice produced (remember that all slices are\n",
    "repetitions of the same network unit with the same parameters)."
   ]
  },
  {
   "cell_type": "code",
   "execution_count": null,
   "metadata": {},
   "outputs": [],
   "source": [
    "class EncoderDecoderNetwork(nn.Module):\n",
    "    def __init__(self, num_of_layers, embeddings_size, state_size):\n",
    "        super(EncoderDecoderNetwork, self).__init__()\n",
    "        self.num_of_layers = num_of_layers\n",
    "        self.state_size = state_size\n",
    "        \n",
    "        # the embedding paramaters\n",
    "        self.embeddings = nn.Embedding(VOCAB_SIZE, embeddings_size)\n",
    "\n",
    "        # the encoder\n",
    "        self.enc = nn.LSTM(embeddings_size, state_size, num_of_layers)\n",
    "\n",
    "        #the decoder\n",
    "        self.dec = nn.LSTM(state_size, state_size, num_of_layers)\n",
    "        \n",
    "        # project the rnn output to a vector of VOCAB_SIZE length\n",
    "        self.linear = nn.Linear(state_size, VOCAB_SIZE)\n",
    "    \n",
    "    def get_rnn_init_state(self, batch_size):\n",
    "        h0 = Variable(torch.zeros(self.num_of_layers, batch_size, self.state_size))\n",
    "        c0 = Variable(torch.zeros(self.num_of_layers, batch_size, self.state_size))\n",
    "        return h0, c0\n",
    "    \n",
    "    def __call__(self, input_string, batch_size):\n",
    "        embedded = self.embeddings(input_string)\n",
    "        output, hn = self.enc(embedded, self.get_rnn_init_state(batch_size))\n",
    "        encoded = output[-1]\n",
    "        dec_h, dec_c = self.get_rnn_init_state(batch_size)\n",
    "        outputs = []\n",
    "        for _ in range(len(input_string)):\n",
    "            output, (dec_h, dec_c) = self.dec(encoded, (dec_h, dec_c))\n",
    "            outputs.append(output)\n",
    "        logits = self.linear(torch.torch.cat(outputs, 0))\n",
    "\n",
    "        return F.log_softmax(logits, 2)"
   ]
  },
  {
   "cell_type": "markdown",
   "metadata": {},
   "source": [
    "We are now ready to run it:"
   ]
  },
  {
   "cell_type": "code",
   "execution_count": null,
   "metadata": {},
   "outputs": [],
   "source": [
    "ENC_RNN_NUM_OF_LAYERS = 1\n",
    "#DEC_RNN_NUM_OF_LAYERS = 1\n",
    "EMBEDDINGS_SIZE = 4\n",
    "ENC_STATE_SIZE = 64\n",
    "#DEC_STATE_SIZE = 64\n",
    "\n",
    "encoder_decoder = EncoderDecoderNetwork(ENC_RNN_NUM_OF_LAYERS, EMBEDDINGS_SIZE, ENC_STATE_SIZE)\n",
    "train(encoder_decoder, train_set, val_set)\n",
    "print(generate(encoder_decoder, 'abcd'))\n",
    "print(generate(encoder_decoder, 'abcdabcdabcdabcd'))"
   ]
  },
  {
   "cell_type": "markdown",
   "metadata": {},
   "source": [
    "The loss curve indicates this model is doing much better than the helpless SimpleRNN.  It is \"learning\" something.\n",
    "But it hits a plateau and remains unstable after the 10th iteration.\n",
    "\n",
    "Since the encoder decoder uses a fixed length vector to represent variable size input strings it can't properly represent long input strings. \n",
    "\n",
    "Lets test it:"
   ]
  },
  {
   "cell_type": "code",
   "execution_count": null,
   "metadata": {},
   "outputs": [],
   "source": [
    "short_strings = [sample_model(1, 5) for _ in range(100)]\n",
    "medium_strings = [sample_model(5, 10) for _ in range(100)]\n",
    "long_strings = [sample_model(10, 15) for _ in range(100)]\n",
    "\n",
    "def count_matches(network, val_set):\n",
    "    matches = [generate(network, input_string)==output_string for input_string, output_string in val_set]\n",
    "    return matches.count(True)\n",
    "\n",
    "print('Matches for short strings', count_matches(encoder_decoder, short_strings))\n",
    "print('Matches for medium strings', count_matches(encoder_decoder, medium_strings))\n",
    "print('Matches for long strings', count_matches(encoder_decoder, long_strings))"
   ]
  },
  {
   "cell_type": "markdown",
   "metadata": {},
   "source": [
    "Overall, the encoder-decoder model does improve over the Simple RNN but hits a plateau because it has limited memory."
   ]
  },
  {
   "cell_type": "markdown",
   "metadata": {},
   "source": [
    "## Attention Model"
   ]
  },
  {
   "cell_type": "markdown",
   "metadata": {},
   "source": [
    "The *attention model* was introduced to address the limitation we just observed:\n",
    "* How does the decoder know which part of the encoding is relevant at each step of the generation.\n",
    "* How can we overcome the limited memory of the encoder so that we can \"remember\" more of the encoding process than a single fixed size vector.\n",
    "\n",
    "The attention model comes between the encoder and the decoder and helps the decoder to pick only the encoded inputs that are important for each step of the decoding process.  "
   ]
  },
  {
   "cell_type": "markdown",
   "metadata": {},
   "source": [
    "<img src=\"img/att.jpg\" width=\"50%\" height=\"50%\">"
   ]
  },
  {
   "cell_type": "markdown",
   "metadata": {},
   "source": [
    "For each encoded input from the encoder RNN, the attention mechanism calculates its importance:\n",
    "\n",
    "$importance_{ij} =V*tanh(encodedInput_iW_1+decoderstate_jW_2)$<br>\n",
    "$importance_{ij}$ is the importance of encoded vector $i$ at decoding step $j$<br>\n",
    "$W_1$, $W_2$ and $V$ are learned parameters <br>\n",
    "\n",
    "Once we calculate the importance of each encoded vector, we normalize the vectors with softmax and multiply each encoded vector by its weight to obtain a \"time dependent\" input encoding which is fed to each step of the decoder RNN.\n",
    "\n",
    "Note that in this model, the attention mechanism computes a fixed-size vector that encodes the whole input sequence based on the sequence of *all* the outputs generated by the encoder (as opposed to the encoder-decoder model above which was looking ONLY at the last state generated by the encoder for all the slices of the decoder).\n",
    "\n",
    "We prepare a new class that refines the EncoderDecoderNetwork.  AttentionNetwork adds the units of the attention model ($W_1, W_2 and V$) in its constructor. \n",
    "\n",
    "The method $attend(input_vectors, state)$ computes the weighted representation of the whole input string for each slide of the decoder.\n",
    "\n",
    "$get\\_loss(input\\_string, output\\_string)$ and $generate(input\\_string)$ are adapted to introduce the call to $attend()$ in the overall choreography."
   ]
  },
  {
   "cell_type": "code",
   "execution_count": null,
   "metadata": {},
   "outputs": [],
   "source": [
    "class EncoderDecoderAttentionNetwork(nn.Module):\n",
    "    def __init__(self, num_of_layers, embeddings_size, state_size):\n",
    "        super(EncoderDecoderAttentionNetwork, self).__init__()\n",
    "        self.num_of_layers = num_of_layers\n",
    "        self.state_size = state_size\n",
    "        # the embedding paramaters\n",
    "        self.embeddings = nn.Embedding(VOCAB_SIZE, embeddings_size)\n",
    "\n",
    "        # the encoder\n",
    "        self.enc = nn.LSTM(embeddings_size, state_size, num_of_layers)\n",
    "\n",
    "        # the decoder\n",
    "        self.dec = nn.LSTM(state_size, state_size, num_of_layers)\n",
    "\n",
    "        # the attention\n",
    "        self.att_w1 = nn.Linear(state_size, state_size, bias=False)\n",
    "        self.att_w2 = nn.Linear(state_size, state_size)\n",
    "        self.att_v = nn.Linear(state_size, 1)\n",
    "\n",
    "        # project the rnn output to a vector of VOCAB_SIZE length\n",
    "        self.linear = nn.Linear(state_size, VOCAB_SIZE)\n",
    "\n",
    "    def attention(self, encoder_outputs, decoder_state):\n",
    "        unnormalized_att = self.att_v(F.tanh(self.att_w1(decoder_state) + self.att_w2(encoder_outputs)))\n",
    "        att = F.softmax(unnormalized_att.permute(1,0,2), dim=0).permute(1,0,2)\n",
    "        attended = encoder_outputs.mul(att).sum(0)\n",
    "        return attended.unsqueeze(0)\n",
    "    \n",
    "    def get_rnn_init_state(self, batch_size):\n",
    "        h0 = Variable(torch.zeros(self.num_of_layers, batch_size, self.state_size))\n",
    "        c0 = Variable(torch.zeros(self.num_of_layers, batch_size, self.state_size))\n",
    "        return h0, c0\n",
    "    \n",
    "    def __call__(self, input_string, batch_size):\n",
    "        embedded = self.embeddings(input_string)\n",
    "        encoder_outputs, hn = self.enc(embedded, self.get_rnn_init_state(batch_size))\n",
    "\n",
    "        dec_h, dec_c = self.get_rnn_init_state(batch_size)\n",
    "        outputs = []\n",
    "        for _ in range(len(input_string)):\n",
    "            encoded = self.attention(encoder_outputs, dec_c)\n",
    "            output, (dec_h, dec_c) = self.dec(encoded, (dec_h, dec_c))\n",
    "            outputs.append(output)\n",
    "        logits = self.linear(torch.torch.cat(outputs, 0))\n",
    "\n",
    "        return F.log_softmax(logits, 2)"
   ]
  },
  {
   "cell_type": "markdown",
   "metadata": {},
   "source": [
    "Ready to try it:"
   ]
  },
  {
   "cell_type": "code",
   "execution_count": null,
   "metadata": {},
   "outputs": [],
   "source": [
    "ENC_RNN_NUM_OF_LAYERS = 1\n",
    "#DEC_RNN_NUM_OF_LAYERS = 1\n",
    "EMBEDDINGS_SIZE = 4\n",
    "ENC_STATE_SIZE = 32\n",
    "#DEC_STATE_SIZE = 32\n",
    "\n",
    "att = EncoderDecoderAttentionNetwork(\n",
    "    ENC_RNN_NUM_OF_LAYERS, EMBEDDINGS_SIZE, ENC_STATE_SIZE)\n",
    "train(att, train_set, val_set)\n",
    "print(generate(att, 'abcdabcdabcdabcd'))"
   ]
  },
  {
   "cell_type": "markdown",
   "metadata": {},
   "source": [
    "It seems like the attention mechanism solved our problem! "
   ]
  },
  {
   "cell_type": "code",
   "execution_count": null,
   "metadata": {},
   "outputs": [],
   "source": [
    "print('Matches for short strings', count_matches(att, short_strings))\n",
    "print('Matches for medium strings', count_matches(att, medium_strings))\n",
    "print('Matches for long strings', count_matches(att, long_strings))"
   ]
  },
  {
   "cell_type": "markdown",
   "metadata": {},
   "source": [
    "Loss went down on the same dataset from 200 to 0.  We now can predict correctly long strings."
   ]
  },
  {
   "cell_type": "markdown",
   "metadata": {},
   "source": [
    "## Attention Weights"
   ]
  },
  {
   "cell_type": "markdown",
   "metadata": {},
   "source": [
    "Let's make a version of the attention network that plots the attention of each encoded input at each decoding step when generating.  We want to look at what was the relative weight that was computed for each of the outputs of the encoders \n",
    "$encOutput_i$ when generating each of the output characters $Output_j$\n",
    "\n",
    "This has the shape of a matrix NxN which will tell us where the model is \"focusing\" on the input encodings when it decides to generate each output char."
   ]
  },
  {
   "cell_type": "code",
   "execution_count": null,
   "metadata": {
    "code_folding": []
   },
   "outputs": [],
   "source": [
    "class AttentionNetworkWithPrint(EncoderDecoderAttentionNetwork):\n",
    "    def __init__(self, layers, embeddings_size, state_size):\n",
    "        EncoderDecoderAttentionNetwork.__init__(self, layers, embeddings_size, state_size)\n",
    "\n",
    "        self.should_print = False\n",
    "        self.att_mat = []\n",
    "    \n",
    "    def attention(self, encoder_outputs, decoder_state):\n",
    "        unnormalized_att = self.att_v(F.tanh(self.att_w1(decoder_state) + self.att_w2(encoder_outputs)))\n",
    "        att = F.softmax(unnormalized_att.permute(1,0,2), dim=0).permute(1,0,2)\n",
    "        if self.should_print:\n",
    "            self.att_mat.append(att.data.numpy())\n",
    "        attended = encoder_outputs.mul(att).sum(0)\n",
    "        return attended.unsqueeze(0)\n",
    "    \n",
    "    def _plot_attention(self, matrix, max_weight=None, ax=None):\n",
    "        \"\"\"Draw Hinton diagram for visualizing a weight matrix.\"\"\"\n",
    "        ax = ax if ax is not None else plt.gca()\n",
    "\n",
    "        if not max_weight:\n",
    "            max_weight = 2**np.ceil(np.log(np.abs(matrix).max())/np.log(2))\n",
    "\n",
    "        ax.patch.set_facecolor('gray')\n",
    "        ax.set_aspect('equal', 'box')\n",
    "        ax.xaxis.set_major_locator(plt.NullLocator())\n",
    "        ax.yaxis.set_major_locator(plt.NullLocator())\n",
    "\n",
    "        for (x, y, _, _), w in np.ndenumerate(matrix):\n",
    "            color = 'white' if w > 0 else 'black'\n",
    "            size = np.sqrt(np.abs(w))\n",
    "            rect = plt.Rectangle([x - size / 2, y - size / 2], size, size,\n",
    "                                 facecolor=color, edgecolor=color)\n",
    "            ax.add_patch(rect)\n",
    "\n",
    "        ax.autoscale_view()\n",
    "        ax.invert_yaxis()\n",
    "        plt.show()\n",
    "    \n",
    "    def generate_and_plot_attention(self, input_string):\n",
    "        self.should_print = True\n",
    "        self.att_mat = []\n",
    "        output_string = generate(self, input_string)\n",
    "\n",
    "        self._plot_attention(np.array(self.att_mat))\n",
    "        att.should_print = False\n",
    "        att.att_mat = []\n",
    "        return output_string"
   ]
  },
  {
   "cell_type": "code",
   "execution_count": null,
   "metadata": {
    "scrolled": false
   },
   "outputs": [],
   "source": [
    "ENC_RNN_NUM_OF_LAYERS = 1\n",
    "#DEC_RNN_NUM_OF_LAYERS = 1\n",
    "EMBEDDINGS_SIZE = 4\n",
    "ENC_STATE_SIZE = 32\n",
    "#DEC_STATE_SIZE = 32\n",
    "\n",
    "att = AttentionNetworkWithPrint(ENC_RNN_NUM_OF_LAYERS, EMBEDDINGS_SIZE, ENC_STATE_SIZE)\n",
    "train(att, train_set, val_set)\n",
    "\n",
    "print(att.generate_and_plot_attention('abcdabcdabcdabcd'))"
   ]
  },
  {
   "cell_type": "code",
   "execution_count": null,
   "metadata": {},
   "outputs": [],
   "source": [
    "train(att, train_set, val_set, 1)\n",
    "\n",
    "print(att.generate_and_plot_attention('abcdabcdabcdabcd'))"
   ]
  },
  {
   "cell_type": "markdown",
   "metadata": {},
   "source": [
    "When plotting the attention weights of each input stage we can see that for we get a diagonal line. When generation stage $i$ the most important input was $|input|-i$\n",
    "\n",
    "In other words, the attention model learned pretty well the structure of the \"reverse\" function on our test sample by looking at 3,000 sample strings.\n",
    "\n",
    "We recommend to read the following book for an extended introduction to NLP using neural networks: http://www.kyunghyuncho.me/home/blog/lecturenotefornlpwithdistributedreponarxivnow"
   ]
  },
  {
   "cell_type": "markdown",
   "metadata": {},
   "source": [
    "About me: https://www.cs.bgu.ac.il/~talbau/"
   ]
  }
 ],
 "metadata": {
  "anaconda-cloud": {},
  "kernelspec": {
   "display_name": "Python 3",
   "language": "python",
   "name": "python3"
  },
  "language_info": {
   "codemirror_mode": {
    "name": "ipython",
    "version": 3
   },
   "file_extension": ".py",
   "mimetype": "text/x-python",
   "name": "python",
   "nbconvert_exporter": "python",
   "pygments_lexer": "ipython3",
   "version": "3.6.1"
  }
 },
 "nbformat": 4,
 "nbformat_minor": 1
}
