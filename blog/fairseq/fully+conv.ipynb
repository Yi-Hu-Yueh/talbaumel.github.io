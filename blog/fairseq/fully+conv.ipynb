{
 "cells": [
  {
   "cell_type": "markdown",
   "metadata": {},
   "source": [
    "# Fully Conv"
   ]
  },
  {
   "cell_type": "markdown",
   "metadata": {},
   "source": [
    "## Create Data"
   ]
  },
  {
   "cell_type": "code",
   "execution_count": 1,
   "metadata": {
    "ExecuteTime": {
     "end_time": "2017-07-27T16:15:54.520798Z",
     "start_time": "2017-07-27T16:15:52.146139Z"
    },
    "collapsed": true
   },
   "outputs": [],
   "source": [
    "%matplotlib inline\n",
    "\n",
    "from random import choice, randrange\n",
    "import os\n",
    "import numpy as np\n",
    "import sys\n",
    "#sys.argv.append('--dynet_mem')\n",
    "#sys.argv.append('6000')\n",
    "os.environ[\"CUDA_VISIBLE_DEVICES\"]=\"1\"\n",
    "import _gdynet as dy\n",
    "import matplotlib.pyplot as plt\n",
    "\n",
    "from tqdm import tqdm_notebook as tqdm\n",
    "\n",
    "dy.init()\n",
    "\n",
    "embed_size = 64\n",
    "filter_width = 3\n",
    "encoder_depth = 1\n",
    "decoder_depth = 1\n",
    "\n",
    "\n",
    "#os.environ[\"CUDA_VISIBLE_DEVICES\"]=\"1\"\n",
    "PAD = \"<PAD>\" #all strings will end with the End Of String token\n",
    "EOS = \"<EOS>\"\n",
    "characters = list(\"abcd\") + [PAD, EOS]\n",
    "\n",
    "\n",
    "int2char = list(characters)\n",
    "char2int = {c:i for i,c in enumerate(characters)}\n",
    "\n",
    "VOCAB_SIZE = len(characters)\n",
    "\n",
    "def sample_model(min_length, max_lenth):\n",
    "    random_length = randrange(min_length, max_lenth)                             # Pick a random length\n",
    "    random_char_list = [choice(characters[:-2]) for _ in range(random_length)]  # Pick random chars\n",
    "    random_string = ''.join(random_char_list) \n",
    "    return random_string, random_string[::-1]  # Return the random string and its reverse\n",
    "\n",
    "MAX_STRING_LEN = 10\n",
    "\n",
    "train_set = [sample_model(1, MAX_STRING_LEN) for _ in range(3000)]\n",
    "val_set = [sample_model(1, MAX_STRING_LEN) for _ in range(50)]"
   ]
  },
  {
   "cell_type": "markdown",
   "metadata": {},
   "source": [
    "## Train Func"
   ]
  },
  {
   "cell_type": "code",
   "execution_count": 2,
   "metadata": {
    "ExecuteTime": {
     "end_time": "2017-07-27T16:15:54.565469Z",
     "start_time": "2017-07-27T16:15:54.522813Z"
    },
    "collapsed": true
   },
   "outputs": [],
   "source": [
    "def train(network, train_set, val_set, epochs = 20):\n",
    "    def get_val_set_loss(network, val_set):\n",
    "        dy.renew_cg()\n",
    "        loss = [network.get_loss(input_string, output_string).value() for input_string, output_string in val_set]\n",
    "        return sum(loss)\n",
    "    \n",
    "    train_set = train_set*epochs\n",
    "    trainer = dy.SimpleSGDTrainer(network.model)\n",
    "    losses = []\n",
    "    iterations = []\n",
    "    for i, training_example in enumerate(tqdm(train_set)):\n",
    "        input_string, output_string = training_example\n",
    "        dy.renew_cg()\n",
    "        loss = network.get_loss(input_string, output_string)\n",
    "        loss_value = loss.value()\n",
    "        loss.backward()\n",
    "        trainer.update()\n",
    "\n",
    "        # Accumulate average losses over training to plot\n",
    "        if i%(len(train_set)/100) == 0:\n",
    "            val_loss = get_val_set_loss(network, val_set)\n",
    "            losses.append(val_loss)\n",
    "            iterations.append(i/((len(train_set)/100)))\n",
    "            print(val_loss)\n",
    "\n",
    "    plt.plot(iterations, losses)\n",
    "    plt.axis([0, 100, 0, len(val_set)*MAX_STRING_LEN])\n",
    "    plt.show() \n",
    "    print('loss on validation set:', val_loss)"
   ]
  },
  {
   "cell_type": "code",
   "execution_count": 3,
   "metadata": {
    "ExecuteTime": {
     "end_time": "2017-07-27T16:15:56.450445Z",
     "start_time": "2017-07-27T16:15:54.568887Z"
    },
    "collapsed": true
   },
   "outputs": [],
   "source": [
    "def pp(expr):\n",
    "    print(expr.npvalue().shape)"
   ]
  },
  {
   "cell_type": "markdown",
   "metadata": {},
   "source": [
    "## The Model"
   ]
  },
  {
   "cell_type": "code",
   "execution_count": 4,
   "metadata": {
    "ExecuteTime": {
     "end_time": "2017-07-27T16:15:57.343604Z",
     "start_time": "2017-07-27T16:15:56.453546Z"
    },
    "code_folding": [
     1,
     4,
     36,
     39,
     52,
     63,
     93,
     115
    ],
    "collapsed": true
   },
   "outputs": [],
   "source": [
    "class ConvAtt:\n",
    "    def params(self, size):\n",
    "        return self.model.add_parameters(size)\n",
    "\n",
    "    def get_conv_filters(self, filter_size, embeddings_size):\n",
    "        f_a = self.params((1, filter_size, embeddings_size, embeddings_size))\n",
    "        b_a = self.params((embeddings_size))\n",
    "        f_b = self.params((1, filter_size, embeddings_size, embeddings_size))\n",
    "        b_b = self.params((embeddings_size))\n",
    "        return f_a, b_a, f_b, b_b\n",
    "\n",
    "    def __init__(self, embeddings_size, filter_size, enc_layers, dec_layers):\n",
    "        self.embeddings_size = embeddings_size\n",
    "\n",
    "        self.model = dy.Model()\n",
    "\n",
    "        self.word_embeddings = self.model.add_lookup_parameters((VOCAB_SIZE, embeddings_size))\n",
    "        self.position_embeddings = self.model.add_lookup_parameters((MAX_STRING_LEN + 2, embeddings_size))\n",
    "\n",
    "        self.enc_filters = []\n",
    "        for _ in range(enc_layers):\n",
    "            f_a, b_a, f_b, b_b = self.get_conv_filters(filter_size, embeddings_size)\n",
    "            self.enc_filters.append((f_a, b_a, f_b, b_b))\n",
    "\n",
    "        self.dec_filters = []\n",
    "        self.att_ws = []\n",
    "        self.att_bs = []\n",
    "        for _ in range(dec_layers):\n",
    "            f_a, b_a, f_b, b_b = self.get_conv_filters(filter_size, embeddings_size)\n",
    "            self.dec_filters.append((f_a, b_a, f_b, b_b))\n",
    "            self.att_ws.append(self.params((1, 1, embeddings_size, embeddings_size)))\n",
    "            self.att_bs.append(self.params((embeddings_size)))\n",
    "\n",
    "        self.output_w = self.params((VOCAB_SIZE, embeddings_size))\n",
    "        self.output_b = self.params((VOCAB_SIZE))\n",
    "\n",
    "    def GLU(self, A, B):\n",
    "        return dy.cmult(A, dy.logistic(B))\n",
    "\n",
    "    def conv_block(self, f, block_input):\n",
    "        f_a, b_a, f_b, b_b = f\n",
    "\n",
    "        f_a = dy.parameter(f_a)\n",
    "        b_a = dy.parameter(b_a)\n",
    "        f_b = dy.parameter(f_b)\n",
    "        b_b = dy.parameter(b_b)\n",
    "\n",
    "        conv_output_a = dy.conv2d_bias(block_input, f_a, b_a, [1, 1], is_valid=False)\n",
    "        conv_output_b = dy.conv2d_bias(block_input, f_b, b_b, [1, 1], is_valid=False)\n",
    "        conv_output = self.GLU(conv_output_a, conv_output_b)\n",
    "        return conv_output\n",
    "\n",
    "    def embedd(self, string):\n",
    "        seq_len = len(string)\n",
    "        positions = [i for i in range(seq_len)]\n",
    "\n",
    "        embedded_string =  dy.lookup_batch(self.word_embeddings, string)\n",
    "        embedded_positions = dy.lookup_batch(self.position_embeddings, positions)\n",
    "\n",
    "        summ = dy.reshape(embedded_string + embedded_positions, (self.embeddings_size, seq_len))\n",
    "        return dy.transpose(summ), seq_len\n",
    "\n",
    "    def encode(self, input_string):\n",
    "        embedded, seq_len = self.embedd(input_string)\n",
    "        conv_input = dy.reshape(embedded, (1, seq_len, self.embeddings_size))\n",
    "\n",
    "        for enc_filter in self.enc_filters:\n",
    "            conv_input = self.conv_block(enc_filter, conv_input) + conv_input\n",
    "        return conv_input\n",
    "\n",
    "    def step_attention(self, conv_block_out, encoded, w, b, last_ws, seq_len, input_len):\n",
    "        w = dy.parameter(w)\n",
    "        b = dy.parameter(b)\n",
    "\n",
    "        #ds = [w * h + b + last_w for h, last_w in zip(conv_block_out[0], last_ws)]\n",
    "        ds = dy.conv2d_bias(conv_block_out, w, b, [1, 1], is_valid=False)\n",
    "        ds = dy.reshape(ds, (seq_len, self.embeddings_size)) + last_ws\n",
    "        # TODO replace with conv\n",
    "        aij = []\n",
    "        for d in ds:\n",
    "            d = dy.reshape(dy.transpose(d), (1, 1, self.embeddings_size, 1))\n",
    "            d = dy.conv2d(encoded, d, [1, 1], is_valid=False)\n",
    "            d = dy.reshape(d, (input_len, ))\n",
    "            aij.append(dy.softmax(d))\n",
    "\n",
    "        cs = [dy.esum([z * a for a, z in zip(ai, encoded[0])]) for ai in aij]\n",
    "        cs = dy.reshape(dy.transpose(dy.concatenate_cols(cs)), (1, seq_len, self.embeddings_size))\n",
    "        return cs\n",
    "\n",
    "    def decode(self, current_out, encoded, input_len):\n",
    "        embedded, seq_len = self.embedd(current_out)\n",
    "        conv_input = dy.reshape(embedded, (1, seq_len, self.embeddings_size))\n",
    "\n",
    "        for dec_filter, att_w, att_b in zip(self.dec_filters, self.att_ws, self.att_bs):\n",
    "            conv_block_out = self.conv_block(dec_filter, conv_input)\n",
    "            conv_input = self.step_attention(conv_block_out, encoded, att_w, att_b, embedded, seq_len, input_len) + conv_input\n",
    "        return conv_input\n",
    "\n",
    "    def str2ints(self, string):\n",
    "        return [char2int[c] for c in [PAD] + list(string) + [EOS]]\n",
    "\n",
    "    def get_loss(self, input_string, output_string):\n",
    "        input_string = self.str2ints(input_string)\n",
    "        output_string = self.str2ints(output_string)\n",
    "\n",
    "        w = dy.parameter(self.output_w)\n",
    "        b = dy.parameter(self.output_b)\n",
    "\n",
    "        encoded = self.encode(input_string)\n",
    "\n",
    "        loss = []\n",
    "        for j in range(1, len(output_string)):\n",
    "            decoded = self.decode(output_string[:j], encoded, len(input_string))\n",
    "            probs = dy.softmax(w * decoded[0][-1] + b)\n",
    "            loss.append(-dy.log(dy.pick(probs, output_string[j])))\n",
    "        decoded = self.decode(output_string, encoded, len(input_string))\n",
    "        probs = dy.softmax(w * decoded[0][-1] + b)\n",
    "        loss.append(-dy.log(dy.pick(probs, char2int[PAD])))\n",
    "        return dy.esum(loss)\n",
    "\n",
    "    def generate(self, input_string):\n",
    "        input_string = self.str2ints(input_string)\n",
    "\n",
    "        w = dy.parameter(self.output_w)\n",
    "        b = dy.parameter(self.output_b)\n",
    "\n",
    "        encoded = self.encode(input_string)\n",
    "        output_string = [char2int[PAD]]\n",
    "        for _ in range(MAX_STRING_LEN + 2):\n",
    "            decoded = self.decode(output_string, encoded, len(input_string))\n",
    "            probs = dy.softmax(w * decoded[0][-1] + b)\n",
    "            next_char = np.argmax(probs.npvalue())\n",
    "            output_string.append(next_char)\n",
    "            if int2char[next_char] == EOS:\n",
    "                break\n",
    "\n",
    "        return [int2char[char] for char in output_string]"
   ]
  },
  {
   "cell_type": "code",
   "execution_count": 5,
   "metadata": {
    "ExecuteTime": {
     "end_time": "2017-07-27T16:15:57.352459Z",
     "start_time": "2017-07-27T16:15:57.345734Z"
    }
   },
   "outputs": [
    {
     "name": "stdout",
     "output_type": "stream",
     "text": [
      "['<PAD>', 'a', '<EOS>']\n"
     ]
    }
   ],
   "source": [
    "conv = ConvAtt(embed_size, filter_width, encoder_depth, decoder_depth)\n",
    "print(conv.generate('ab'))"
   ]
  },
  {
   "cell_type": "code",
   "execution_count": 6,
   "metadata": {
    "ExecuteTime": {
     "end_time": "2017-07-27T16:37:51.762117Z",
     "start_time": "2017-07-27T16:15:57.355608Z"
    }
   },
   "outputs": [
    {
     "name": "stderr",
     "output_type": "stream",
     "text": [
      "Widget Javascript not detected.  It may not be installed or enabled properly.\n"
     ]
    },
    {
     "data": {
      "application/vnd.jupyter.widget-view+json": {
       "model_id": "8bdcac38f30245efa578c52e139d058b"
      }
     },
     "metadata": {},
     "output_type": "display_data"
    },
    {
     "name": "stdout",
     "output_type": "stream",
     "text": [
      "626.0804858207703\n",
      "128.76934001035988\n",
      "92.33988659922034\n",
      "95.39406282547861\n",
      "74.27524198172614\n",
      "79.38339770282619\n",
      "83.8286906973226\n",
      "88.74517221743008\n",
      "77.51200671342667\n",
      "42.320964167360216\n",
      "29.21646802977193\n",
      "73.60348944843281\n",
      "109.26427455624798\n",
      "55.324185049626976\n",
      "88.91703183966456\n",
      "60.93847794964677\n",
      "96.77767056037555\n",
      "73.34449432732072\n",
      "66.24782918806886\n",
      "60.24582437786739\n",
      "78.53890486934688\n",
      "90.29901527264155\n",
      "85.29618191713234\n",
      "66.45439828146482\n",
      "67.68811611861747\n",
      "66.0635716712568\n",
      "90.10151278086414\n",
      "113.16611401893897\n",
      "67.17142644255364\n",
      "46.46841103665065\n",
      "60.25567701632099\n",
      "94.58197902789107\n",
      "67.37946464832203\n",
      "79.5451364548644\n",
      "63.53223397413967\n",
      "81.9246325052809\n",
      "71.30212353990646\n",
      "76.65589481635834\n",
      "60.95397530274931\n",
      "65.97349572128587\n",
      "93.25532698692405\n",
      "78.07555549130484\n",
      "56.458443375799106\n",
      "62.70230772704235\n",
      "56.13537282650941\n",
      "74.5004115660995\n",
      "57.52689387139981\n",
      "53.901951757768984\n",
      "86.62018413146143\n",
      "39.562410908525635\n",
      "56.24597244770848\n",
      "95.0363859312929\n",
      "35.05637357015803\n",
      "43.594944088719785\n",
      "53.92813585343538\n",
      "60.26279101111504\n",
      "79.62045001608931\n",
      "73.90668566464956\n",
      "88.75140083352744\n",
      "46.01914102625233\n",
      "53.16772556096112\n",
      "42.571723495704646\n",
      "68.30105879937037\n",
      "46.23728622708768\n",
      "68.16707464893625\n",
      "103.97915681754966\n",
      "52.34543921890145\n",
      "66.1097613722668\n",
      "39.7523292042315\n",
      "56.33561344717236\n",
      "30.14806983659946\n",
      "68.82880529810973\n",
      "69.7357051698018\n",
      "70.0904173328654\n",
      "56.56684649755334\n",
      "67.51758501812947\n",
      "79.93391999876621\n",
      "77.50492832597229\n",
      "89.3623813305694\n",
      "75.78451274618419\n",
      "68.67255319385731\n",
      "82.91165744041064\n",
      "107.74844301627309\n",
      "69.60942608597179\n",
      "60.7360783880049\n",
      "50.4360383875719\n",
      "97.64091682519575\n",
      "53.3957823973833\n",
      "93.4049488237797\n",
      "73.67580854081098\n",
      "70.2976612019238\n",
      "76.27193770635131\n",
      "56.08310563906343\n",
      "65.2485377867688\n",
      "39.45965553383212\n",
      "68.23980856007984\n",
      "97.5807999591998\n",
      "71.13393986611754\n",
      "54.94026818769453\n",
      "37.012838207891036\n",
      "\n"
     ]
    },
    {
     "data": {
      "image/png": "[encoded data removed]",
      "text/plain": [
       "<matplotlib.figure.Figure at 0x7fa93053cba8>"
      ]
     },
     "metadata": {},
     "output_type": "display_data"
    },
    {
     "name": "stdout",
     "output_type": "stream",
     "text": [
      "loss on validation set: 37.012838207891036\n"
     ]
    }
   ],
   "source": [
    "train(conv, train_set, val_set)"
   ]
  },
  {
   "cell_type": "code",
   "execution_count": 7,
   "metadata": {
    "ExecuteTime": {
     "end_time": "2017-07-27T16:37:51.772851Z",
     "start_time": "2017-07-27T16:37:51.764468Z"
    }
   },
   "outputs": [
    {
     "name": "stdout",
     "output_type": "stream",
     "text": [
      "['<PAD>', 'd', 'c', 'b', 'a', '<EOS>']\n"
     ]
    }
   ],
   "source": [
    "print(conv.generate('abcd'))"
   ]
  },
  {
   "cell_type": "code",
   "execution_count": null,
   "metadata": {
    "collapsed": true
   },
   "outputs": [],
   "source": []
  }
 ],
 "metadata": {
  "kernelspec": {
   "display_name": "Python 3",
   "language": "python",
   "name": "python3"
  },
  "language_info": {
   "codemirror_mode": {
    "name": "ipython",
    "version": 3
   },
   "file_extension": ".py",
   "mimetype": "text/x-python",
   "name": "python",
   "nbconvert_exporter": "python",
   "pygments_lexer": "ipython3",
   "version": "3.5.2"
  },
  "toc": {
   "colors": {
    "hover_highlight": "#DAA520",
    "navigate_num": "#000000",
    "navigate_text": "#333333",
    "running_highlight": "#FF0000",
    "selected_highlight": "#FFD700",
    "sidebar_border": "#EEEEEE",
    "wrapper_background": "#FFFFFF"
   },
   "moveMenuLeft": true,
   "nav_menu": {
    "height": "84px",
    "width": "252px"
   },
   "navigate_menu": true,
   "number_sections": true,
   "sideBar": true,
   "threshold": 4,
   "toc_cell": false,
   "toc_section_display": "block",
   "toc_window_display": true,
   "widenNotebook": false
  }
 },
 "nbformat": 4,
 "nbformat_minor": 2
}
