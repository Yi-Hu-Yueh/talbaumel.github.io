{
 "cells": [
  {
   "cell_type": "markdown",
   "metadata": {},
   "source": [
    "# PyTorch Tutorial"
   ]
  },
  {
   "cell_type": "markdown",
   "metadata": {},
   "source": [
    "Prerequisites:\n",
    "1. Install Anaconda (Python3)\n",
    "2. Install PyTorch\n",
    "3. Run 'jupyter notebook'"
   ]
  },
  {
   "cell_type": "code",
   "execution_count": 1,
   "metadata": {},
   "outputs": [],
   "source": [
    "%matplotlib inline\n",
    "\n",
    "import matplotlib.pyplot as plt\n",
    "from tqdm import tqdm_notebook as tqdm\n",
    "import torch\n",
    "import torch.nn as nn\n",
    "import torch.nn.functional as f\n",
    "from torch.autograd import Variable \n",
    "import numpy as np"
   ]
  },
  {
   "cell_type": "markdown",
   "metadata": {},
   "source": [
    "## PyTorch Basics"
   ]
  },
  {
   "cell_type": "markdown",
   "metadata": {},
   "source": [
    "Some importnat concepts in PyTorch:\n",
    "1. Input -> the computation graph can compute a value given an input\n",
    "2. Parameter -> this is the optimizable part of the network\n",
    "3. Expresion -> output of a computation\n",
    "\n",
    "In this excersize we will find $x|y(x) = 0$<br/>\n",
    "We will start with $y(x) = 2x-4$"
   ]
  },
  {
   "cell_type": "code",
   "execution_count": 2,
   "metadata": {},
   "outputs": [],
   "source": [
    "class LinearFunction(nn.Module):\n",
    "    def __init__(self, a, b):\n",
    "        super(LinearFunction, self).__init__()\n",
    "        self.a = [a]\n",
    "        self.b = [b]\n",
    "        \n",
    "        self.x = nn.Parameter(torch.FloatTensor([10*np.random.random()]))\n",
    "        # we want to optimize x\n",
    "        # hence x should be a parameter\n",
    "        \n",
    "    def forward(self):\n",
    "        a = torch.autograd.Variable(torch.FloatTensor(self.a))\n",
    "        b = torch.autograd.Variable(torch.FloatTensor(self.b))\n",
    " \n",
    "        return  a*self.x + b\n",
    "    \n",
    "    def get_loss(self):\n",
    "        return torch.abs(self())"
   ]
  },
  {
   "cell_type": "code",
   "execution_count": 3,
   "metadata": {},
   "outputs": [
    {
     "data": {
      "application/vnd.jupyter.widget-view+json": {
       "model_id": "05d241f9f3bf45f9b593288f793e0cc0",
       "version_major": 2,
       "version_minor": 0
      },
      "text/html": [
       "<p>Failed to display Jupyter Widget of type <code>HBox</code>.</p>\n",
       "<p>\n",
       "  If you're reading this message in the Jupyter Notebook or JupyterLab Notebook, it may mean\n",
       "  that the widgets JavaScript is still loading. If this message persists, it\n",
       "  likely means that the widgets JavaScript library is either not installed or\n",
       "  not enabled. See the <a href=\"https://ipywidgets.readthedocs.io/en/stable/user_install.html\">Jupyter\n",
       "  Widgets Documentation</a> for setup instructions.\n",
       "</p>\n",
       "<p>\n",
       "  If you're reading this message in another frontend (for example, a static\n",
       "  rendering on GitHub or <a href=\"https://nbviewer.jupyter.org/\">NBViewer</a>),\n",
       "  it may mean that your frontend doesn't currently support widgets.\n",
       "</p>\n"
      ],
      "text/plain": [
       "HBox(children=(IntProgress(value=0, max=50), HTML(value='')))"
      ]
     },
     "metadata": {},
     "output_type": "display_data"
    },
    {
     "name": "stdout",
     "output_type": "stream",
     "text": [
      "\n"
     ]
    },
    {
     "data": {
      "image/png": "[encoded data removed]",
      "text/plain": [
       "<matplotlib.figure.Figure at 0x1082fdbe0>"
      ]
     },
     "metadata": {},
     "output_type": "display_data"
    }
   ],
   "source": [
    "def minimize(func):\n",
    "    optim = torch.optim.SGD(func.parameters(), lr = 0.1)\n",
    "    loss_values = []\n",
    "    for i in tqdm(range(50)):\n",
    "        optim.zero_grad()\n",
    "        loss = func.get_loss()\n",
    "        loss_values.append(loss.data[0])\n",
    "        loss.backward()\n",
    "        optim.step()\n",
    "         \n",
    "    plt.plot(loss_values)\n",
    "    plt.show() \n",
    "    \n",
    "minimize(LinearFunction(2, -4))"
   ]
  },
  {
   "cell_type": "markdown",
   "metadata": {},
   "source": [
    "### Exercise 1\n"
   ]
  },
  {
   "cell_type": "markdown",
   "metadata": {},
   "source": [
    "1. Print the optimal x value found\n",
    "2. How can we improve the x value?\n",
    "3. Optimize a quadratic function. example: $x^2-4x+4$\n",
    "4. Solve a set of equations with multiple variables. Example: \n",
    "$\\begin{cases} 3x + 5y + z \\\\ 7x – 2y + 4z \\\\ -6x + 3y + 2z \\end{cases}$"
   ]
  },
  {
   "cell_type": "code",
   "execution_count": 4,
   "metadata": {},
   "outputs": [],
   "source": [
    "# ¯\\_(ツ)_/¯"
   ]
  },
  {
   "cell_type": "markdown",
   "metadata": {},
   "source": [
    "## \"Deep\" Neural Networks"
   ]
  },
  {
   "cell_type": "markdown",
   "metadata": {},
   "source": [
    "Let's emulate a xor gate (it is well known that it is impossoble do it using a linear model)"
   ]
  },
  {
   "cell_type": "code",
   "execution_count": 5,
   "metadata": {},
   "outputs": [
    {
     "data": {
      "application/vnd.jupyter.widget-view+json": {
       "model_id": "bb9261256f10467bb33768eeada2727e",
       "version_major": 2,
       "version_minor": 0
      },
      "text/html": [
       "<p>Failed to display Jupyter Widget of type <code>HBox</code>.</p>\n",
       "<p>\n",
       "  If you're reading this message in the Jupyter Notebook or JupyterLab Notebook, it may mean\n",
       "  that the widgets JavaScript is still loading. If this message persists, it\n",
       "  likely means that the widgets JavaScript library is either not installed or\n",
       "  not enabled. See the <a href=\"https://ipywidgets.readthedocs.io/en/stable/user_install.html\">Jupyter\n",
       "  Widgets Documentation</a> for setup instructions.\n",
       "</p>\n",
       "<p>\n",
       "  If you're reading this message in another frontend (for example, a static\n",
       "  rendering on GitHub or <a href=\"https://nbviewer.jupyter.org/\">NBViewer</a>),\n",
       "  it may mean that your frontend doesn't currently support widgets.\n",
       "</p>\n"
      ],
      "text/plain": [
       "HBox(children=(IntProgress(value=0, max=200000), HTML(value='')))"
      ]
     },
     "metadata": {},
     "output_type": "display_data"
    },
    {
     "name": "stdout",
     "output_type": "stream",
     "text": [
      "\n"
     ]
    },
    {
     "data": {
      "image/png": "[encoded data removed]",
      "text/plain": [
       "<matplotlib.figure.Figure at 0x108309b00>"
      ]
     },
     "metadata": {},
     "output_type": "display_data"
    }
   ],
   "source": [
    "from itertools import product\n",
    "from random import choice\n",
    "\n",
    "def xor(a, b):\n",
    "    if a == 0 and b == 0: return 0\n",
    "    if a == 0 and b == 1: return 1\n",
    "    if a == 1 and b == 0: return 1\n",
    "    if a == 1 and b == 1: return 0\n",
    "\n",
    "dataset = [(Variable(torch.Tensor([a, b])), Variable(torch.Tensor([xor(a, b)]))) for a, b in product(*[[0, 1]]*2)]\n",
    "\n",
    "class XORNet(nn.Module):\n",
    "    def __init__(self, hidden_dim):\n",
    "        super(XORNet, self).__init__()\n",
    "        self.linear1 = nn.Linear(2, hidden_dim)\n",
    "        self.linear2 = nn.Linear(hidden_dim, 1)\n",
    "    \n",
    "    def forward(self, x):\n",
    "        x = self.linear1(x)\n",
    "        x = self.linear2(x)\n",
    "        return x\n",
    "    \n",
    "def train(network):\n",
    "    loss_values = []\n",
    "    \n",
    "    loss_func = nn.L1Loss()\n",
    "    optim = torch.optim.SGD(network.parameters(), lr=0.001)\n",
    "    for i in tqdm(range(50000*4)):\n",
    "        x, y = choice(dataset)\n",
    "        \n",
    "        optim.zero_grad()\n",
    "        pred = network(x)\n",
    "        loss = loss_func(pred, y)\n",
    "        loss_values.append(loss.data[0])\n",
    "        loss.backward()\n",
    "        optim.step()\n",
    "         \n",
    "    plt.plot(loss_values)\n",
    "    plt.show() \n",
    "network = XORNet(20)\n",
    "train(network)"
   ]
  },
  {
   "cell_type": "markdown",
   "metadata": {},
   "source": [
    "### Exercise 2"
   ]
  },
  {
   "cell_type": "markdown",
   "metadata": {},
   "source": [
    "Something is missing from the code, find out what it is ¯\\\\_(ツ)_/¯"
   ]
  },
  {
   "cell_type": "markdown",
   "metadata": {},
   "source": [
    "## RNNs for Classification"
   ]
  },
  {
   "cell_type": "code",
   "execution_count": 6,
   "metadata": {},
   "outputs": [],
   "source": [
    "from random import randint\n",
    "\n",
    "def parChecker(symbolString):\n",
    "    s = []\n",
    "    balanced = True\n",
    "    index = 0\n",
    "    while index < len(symbolString) and balanced:\n",
    "        symbol = symbolString[index]\n",
    "        if symbol == \"(\": s.append(symbol)\n",
    "        else:\n",
    "            if not s: balanced = False\n",
    "            else: s.pop()\n",
    "        index = index + 1\n",
    "\n",
    "    if balanced and not s: return Variable(torch.LongTensor([1]))\n",
    "    else: return Variable(torch.LongTensor([0]))\n",
    "    \n",
    "x = [''.join([choice('()') for _ in range(randint(1, 5)*2)]) for i in range(10000)]\n",
    "vocab = ['(', ')']\n",
    "VOCAB_SIZE = len(vocab)\n",
    "id2word = vocab\n",
    "word2id = {word:i for i, word in enumerate(vocab)}\n",
    "\n",
    "y = [parChecker(s) for s in x]\n",
    "\n",
    "#vectorize dataset\n",
    "x = [Variable(torch.LongTensor([[word2id[w] for w in string]])) for string in x]\n",
    "\n",
    "dataset = list(zip(x, y))"
   ]
  },
  {
   "cell_type": "code",
   "execution_count": 7,
   "metadata": {},
   "outputs": [],
   "source": [
    "class RNNClassifier(nn.Module):\n",
    "    def __init__(self, embeddings_size, state_size):\n",
    "        super(RNNClassifier, self).__init__()\n",
    "        self.state_size = state_size\n",
    "\n",
    "        self.embeddings = nn.Embedding(VOCAB_SIZE, embeddings_size)\n",
    "\n",
    "        self.fwd_rnn = nn.LSTM(embeddings_size, state_size, 1)\n",
    "        \n",
    "        self.linear = nn.Linear(state_size, 2)\n",
    "\n",
    "    def get_rnn_init_state(self):\n",
    "        h0 = Variable(torch.zeros(1, 1, self.state_size))\n",
    "        c0 = Variable(torch.zeros(1, 1, self.state_size))\n",
    "        return h0, c0\n",
    "\n",
    "    def forward(self, input_string):\n",
    "        embedded = self.embeddings(input_string.transpose(1, 0))\n",
    "        \n",
    "        encoder_outputs, hn = self.fwd_rnn(embedded, self.get_rnn_init_state())\n",
    "        logits = self.linear(encoder_outputs[-1])\n",
    "\n",
    "        return logits #f.softmax(logits, dim=1) "
   ]
  },
  {
   "cell_type": "code",
   "execution_count": 8,
   "metadata": {
    "code_folding": []
   },
   "outputs": [
    {
     "data": {
      "application/vnd.jupyter.widget-view+json": {
       "model_id": "679bc278f2734831b0ec540a23922270",
       "version_major": 2,
       "version_minor": 0
      },
      "text/html": [
       "<p>Failed to display Jupyter Widget of type <code>HBox</code>.</p>\n",
       "<p>\n",
       "  If you're reading this message in the Jupyter Notebook or JupyterLab Notebook, it may mean\n",
       "  that the widgets JavaScript is still loading. If this message persists, it\n",
       "  likely means that the widgets JavaScript library is either not installed or\n",
       "  not enabled. See the <a href=\"https://ipywidgets.readthedocs.io/en/stable/user_install.html\">Jupyter\n",
       "  Widgets Documentation</a> for setup instructions.\n",
       "</p>\n",
       "<p>\n",
       "  If you're reading this message in another frontend (for example, a static\n",
       "  rendering on GitHub or <a href=\"https://nbviewer.jupyter.org/\">NBViewer</a>),\n",
       "  it may mean that your frontend doesn't currently support widgets.\n",
       "</p>\n"
      ],
      "text/plain": [
       "HBox(children=(IntProgress(value=0, max=200000), HTML(value='')))"
      ]
     },
     "metadata": {},
     "output_type": "display_data"
    },
    {
     "name": "stdout",
     "output_type": "stream",
     "text": [
      "\n"
     ]
    },
    {
     "data": {
      "image/png": "[encoded data removed]",
      "text/plain": [
       "<matplotlib.figure.Figure at 0x1089f74e0>"
      ]
     },
     "metadata": {},
     "output_type": "display_data"
    }
   ],
   "source": [
    "def train(network):\n",
    "    loss_values = []\n",
    "    \n",
    "    loss_func = nn.CrossEntropyLoss()\n",
    "    optim = torch.optim.SGD(network.parameters(), lr=0.001)\n",
    "    for i in tqdm(range(50000*4)):\n",
    "        x, y = choice(dataset)\n",
    "        \n",
    "        optim.zero_grad()\n",
    "        pred = network(x)\n",
    "        loss = loss_func(pred, y)\n",
    "        loss_values.append(loss.data[0])\n",
    "        loss.backward()\n",
    "        optim.step()\n",
    "         \n",
    "    plt.plot(loss_values)\n",
    "    plt.show() \n",
    "network = RNNClassifier(4, 20)\n",
    "train(network)"
   ]
  },
  {
   "cell_type": "markdown",
   "metadata": {},
   "source": [
    "### Exercise 3"
   ]
  },
  {
   "cell_type": "markdown",
   "metadata": {},
   "source": [
    "1. Make the LSTM a BiLSTM\n",
    "2. This is very slow, can we make it faster (make the network batch friendly)?"
   ]
  }
 ],
 "metadata": {
  "kernelspec": {
   "display_name": "Python 3",
   "language": "python",
   "name": "python3"
  },
  "language_info": {
   "codemirror_mode": {
    "name": "ipython",
    "version": 3
   },
   "file_extension": ".py",
   "mimetype": "text/x-python",
   "name": "python",
   "nbconvert_exporter": "python",
   "pygments_lexer": "ipython3",
   "version": "3.6.4"
  },
  "toc": {
   "nav_menu": {},
   "number_sections": true,
   "sideBar": true,
   "skip_h1_title": false,
   "title_cell": "Table of Contents",
   "title_sidebar": "Contents",
   "toc_cell": false,
   "toc_position": {},
   "toc_section_display": true,
   "toc_window_display": false
  }
 },
 "nbformat": 4,
 "nbformat_minor": 2
}
