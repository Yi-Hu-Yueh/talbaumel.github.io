{
 "cells": [
  {
   "cell_type": "markdown",
   "metadata": {},
   "source": [
    "# What Did The Encoder Learn?"
   ]
  },
  {
   "cell_type": "markdown",
   "metadata": {},
   "source": [
    "When we talked about the neural attention mechansim we tried to learn the reverse function on variable length strings, now we will focus on what the encoder actually learned in order to generalize the reverse function."
   ]
  },
  {
   "cell_type": "markdown",
   "metadata": {},
   "source": [
    "# Can The Encoder Count?"
   ]
  },
  {
   "cell_type": "markdown",
   "metadata": {},
   "source": [
    "1st we argue that in order to learn the reverse function our encoder needs to learn how to count the index of each input charcter, in order to test our assumpution we will do it by testing if the training of the network help us to predict the step of each encoder output."
   ]
  },
  {
   "cell_type": "code",
   "execution_count": 6,
   "metadata": {
    "collapsed": false
   },
   "outputs": [],
   "source": [
    "%matplotlib inline\n",
    "\n",
    "from models import AttentionNetwork, EncoderDecoderNetwork\n",
    "from sklearn import linear_model\n",
    "import numpy as np\n",
    "import pycnn as pc\n",
    "import data\n",
    "from collections import defaultdict\n",
    "from random import shuffle\n",
    "from copy import copy\n",
    "\n",
    "class AttentionNetworkPredictEncoder(EncoderDecoderNetwork):\n",
    "    def __init__(self, enc_layers, dec_layers, embeddings_size, enc_state_size, dec_state_size):\n",
    "        EncoderDecoderNetwork.__init__(self, enc_layers, dec_layers, embeddings_size, enc_state_size, dec_state_size)\n",
    "        self.encoder_outputs = defaultdict(list)\n",
    "        self.should_save = False\n",
    "\n",
    "    def _encode_string(self, embedded_string):\n",
    "        initial_state = self.ENC_RNN.initial_state()\n",
    "\n",
    "        # run_rnn returns all the hidden state of all the slices of the RNN\n",
    "        hidden_states = self._run_rnn(initial_state, embedded_string)\n",
    "        \n",
    "        #save the encoder outputs by their step number if needed\n",
    "        if self.should_save:\n",
    "            for i, vec in enumerate(hidden_states):\n",
    "                self.encoder_outputs[i].append(vec.npvalue())\n",
    "        return hidden_states\n",
    "\n",
    "    def _create_dataset(self, encoder_outputs):\n",
    "        dataset = []\n",
    "        for step in self.encoder_outputs:\n",
    "            vecs = self.encoder_outputs[step]\n",
    "            for vec in vecs:\n",
    "                dataset.append((vec, step))\n",
    "        shuffle(dataset)\n",
    "        train = dataset[:len(dataset)*9/10]\n",
    "        val = dataset[len(dataset)*9/10:]\n",
    "        return train, val\n",
    "    \n",
    "    def predict_encoder_step(self, input_strings):\n",
    "        self.should_save = True\n",
    "        #generate outputs over input strings\n",
    "        for input_string in input_strings:\n",
    "            self.generate(input_string)\n",
    "        self.should_save = False\n",
    "\n",
    "        #create encoded character to step dataset\n",
    "        train, val = self._create_dataset(self.encoder_outputs)\n",
    "        data, target = zip(*train)\n",
    "        val_data, val_target = zip(*val\n",
    "                                  )\n",
    "        #predict the step using linear model\n",
    "        clf = linear_model.LassoLars(alpha=0.01)\n",
    "        \n",
    "        data = np.array(data)\n",
    "        target = np.array(target)\n",
    "        y_pred = clf.fit(data, target).predict(val_data)\n",
    "        error = []\n",
    "        for i in range(len(y_pred)):\n",
    "            error.append(np.abs(val_target[i] - y_pred[i]))\n",
    "        self.encoder_outputs = defaultdict(list)\n",
    "        return np.mean(error)"
   ]
  },
  {
   "cell_type": "markdown",
   "metadata": {},
   "source": [
    "Error on an untrained model:"
   ]
  },
  {
   "cell_type": "code",
   "execution_count": 7,
   "metadata": {
    "collapsed": false
   },
   "outputs": [
    {
     "name": "stdout",
     "output_type": "stream",
     "text": [
      "3.04069094914\n"
     ]
    }
   ],
   "source": [
    "ENC_RNN_NUM_OF_LAYERS = 1\n",
    "DEC_RNN_NUM_OF_LAYERS = 1\n",
    "EMBEDDINGS_SIZE = 4\n",
    "ENC_STATE_SIZE = 32\n",
    "DEC_STATE_SIZE = 32\n",
    "\n",
    "long_sequences = [data.sample_model(14, 15)[0] for _ in range(2000)]\n",
    "att = AttentionNetworkPredictEncoder(\n",
    "    ENC_RNN_NUM_OF_LAYERS, DEC_RNN_NUM_OF_LAYERS, EMBEDDINGS_SIZE, ENC_STATE_SIZE, DEC_STATE_SIZE)\n",
    "\n",
    "print att.predict_encoder_step(long_sequences)"
   ]
  },
  {
   "cell_type": "markdown",
   "metadata": {},
   "source": [
    "Error on trained model:"
   ]
  },
  {
   "cell_type": "code",
   "execution_count": 8,
   "metadata": {
    "collapsed": false
   },
   "outputs": [
    {
     "name": "stdout",
     "output_type": "stream",
     "text": [
      "2.03617123022\n"
     ]
    }
   ],
   "source": [
    "def train(network, train_set, val_set, epochs=10):\n",
    "    def get_val_set_loss(network, val_set):\n",
    "        loss = [network.get_loss(input_string, output_string).value() for input_string, output_string in val_set]\n",
    "        return sum(loss)\n",
    "\n",
    "\n",
    "    train_set = train_set * epochs\n",
    "    trainer = pc.SimpleSGDTrainer(network.model)\n",
    "    for i, training_example in enumerate(train_set):\n",
    "        input_string, output_string = training_example\n",
    "\n",
    "        loss = network.get_loss(input_string, output_string)\n",
    "        loss.value()\n",
    "        loss.backward()\n",
    "        trainer.update()\n",
    "        \n",
    "    val_loss = get_val_set_loss(network, val_set)\n",
    "    return val_loss\n",
    "\n",
    "train(att, data.train_set, data.val_set)\n",
    "print att.predict_encoder_step(long_sequences)"
   ]
  },
  {
   "cell_type": "markdown",
   "metadata": {},
   "source": [
    "# Does The Encoder Learn The Input Distribution?"
   ]
  },
  {
   "cell_type": "markdown",
   "metadata": {},
   "source": [
    "Another assumption about the encoder is that he learns the distribution of the input. we will test it by seeing if input generated by a simpler distribution can be learned by a simpler encoder."
   ]
  },
  {
   "cell_type": "markdown",
   "metadata": {},
   "source": [
    "Let's see how the encoder size effects our output:"
   ]
  },
  {
   "cell_type": "code",
   "execution_count": 4,
   "metadata": {
    "collapsed": true
   },
   "outputs": [],
   "source": [
    "import matplotlib.pyplot as plt\n",
    "\n",
    "def plot_preformence_by_encoder_size(Model, train_set, val_set):\n",
    "    ENC_RNN_NUM_OF_LAYERS = 1\n",
    "    DEC_RNN_NUM_OF_LAYERS = 1\n",
    "    EMBEDDINGS_SIZE = 4\n",
    "\n",
    "    iterations = []\n",
    "    losses = []\n",
    "    for i in range(1, 32):\n",
    "        model = Model(ENC_RNN_NUM_OF_LAYERS, DEC_RNN_NUM_OF_LAYERS, EMBEDDINGS_SIZE, i, i)\n",
    "        loss = train(model, train_set, val_set)\n",
    "        iterations.append(i)\n",
    "        losses.append(loss)\n",
    "    plt.plot(iterations, losses)\n",
    "    plt.axis([4, 32, 0, len(data.val_set) * data.MAX_STRING_LEN])\n",
    "    plt.show()"
   ]
  },
  {
   "cell_type": "code",
   "execution_count": 5,
   "metadata": {
    "collapsed": false
   },
   "outputs": [
    {
     "data": {
      "image/png": "[encoded data removed]",
      "text/plain": [
       "<matplotlib.figure.Figure at 0x107d0a390>"
      ]
     },
     "metadata": {},
     "output_type": "display_data"
    }
   ],
   "source": [
    "plot_preformence_by_encoder_size(AttentionNetwork, data.train_set, data.val_set)"
   ]
  },
  {
   "cell_type": "code",
   "execution_count": 6,
   "metadata": {
    "collapsed": false
   },
   "outputs": [],
   "source": [
    "from random import randrange, choice\n",
    "\n",
    "characters = list(\"abcd\")\n",
    "characters.append(data.EOS)\n",
    "\n",
    "def sample_model(min_length, max_lenth):\n",
    "    random_length = randrange(min_length, max_lenth)\n",
    "    random_char_list = []\n",
    "    for i in xrange(random_length):\n",
    "        if i%2 == 0:\n",
    "            random_char_list.append(choice(data.characters[:-1][0::2]))\n",
    "        else:\n",
    "            random_char_list.append(choice(data.characters[:-1][1::2]))\n",
    "    random_string = ''.join(random_char_list)\n",
    "    return random_string, random_string[::-1]\n",
    "\n",
    "train_set = [sample_model(1, data.MAX_STRING_LEN) for _ in xrange(3000)]\n",
    "val_set = [sample_model(1, data.MAX_STRING_LEN) for _ in xrange(50)]"
   ]
  },
  {
   "cell_type": "code",
   "execution_count": 7,
   "metadata": {
    "collapsed": false
   },
   "outputs": [
    {
     "data": {
      "image/png": "[encoded data removed]",
      "text/plain": [
       "<matplotlib.figure.Figure at 0x16f1b3990>"
      ]
     },
     "metadata": {},
     "output_type": "display_data"
    }
   ],
   "source": [
    "plot_preformence_by_encoder_size(AttentionNetwork, train_set, val_set)"
   ]
  }
 ],
 "metadata": {
  "kernelspec": {
   "display_name": "Python 2",
   "language": "python",
   "name": "python2"
  },
  "language_info": {
   "codemirror_mode": {
    "name": "ipython",
    "version": 2
   },
   "file_extension": ".py",
   "mimetype": "text/x-python",
   "name": "python",
   "nbconvert_exporter": "python",
   "pygments_lexer": "ipython2",
   "version": "2.7.11"
  }
 },
 "nbformat": 4,
 "nbformat_minor": 0
}
